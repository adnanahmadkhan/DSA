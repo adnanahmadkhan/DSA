{
 "cells": [
  {
   "cell_type": "code",
   "execution_count": 2,
   "metadata": {},
   "outputs": [
    {
     "data": {
      "text/plain": [
       "2"
      ]
     },
     "execution_count": 2,
     "metadata": {},
     "output_type": "execute_result"
    }
   ],
   "source": [
    "#FIND GENERALIZED GCD\n",
    "\n",
    "from functools import reduce\n",
    "      \n",
    "def generalizedGCD(num, arr):\n",
    "    # WRITE YOUR CODE HERE\n",
    "    if (num > 2):\n",
    "        return reduce(lambda x,y: GCD(x,y), arr)\n",
    "    \n",
    "    return GCD(arr[0], arr[1])\n",
    "\n",
    "\n",
    "def GCD(x, y): \n",
    "    while(y):\n",
    "        x, y = y, x % y \n",
    "    return x  \n",
    "\n",
    "l = [2, 4, 6, 8, 16] \n",
    "generalizedGCD(len(l), l)"
   ]
  },
  {
   "cell_type": "code",
   "execution_count": 1,
   "metadata": {},
   "outputs": [
    {
     "data": {
      "text/plain": [
       "[0]"
      ]
     },
     "execution_count": 1,
     "metadata": {},
     "output_type": "execute_result"
    }
   ],
   "source": [
    "# 8 PRISON CELLS\n",
    "\n",
    "def cellCompete(states, days):\n",
    "    # WRITE YOUR CODE HERE\n",
    "    # same pe 0\n",
    "    tmp = []\n",
    "    \n",
    "    if(len(states) == 1):\n",
    "        states[0] = 0\n",
    "        return states\n",
    "    \n",
    "    for i in range(days):\n",
    "        for j in range(len(states)):\n",
    "            if((j == 0) | (j == len(states)-1)):\n",
    "                if(j == 0):\n",
    "                    if(states[1] == 0):\n",
    "                        tmp.append(0)\n",
    "                    else:\n",
    "                        tmp.append(1)\n",
    "                        \n",
    "                else:\n",
    "                    if(states[len(states)-2] == 0):\n",
    "                        tmp.append(0)\n",
    "                    else:\n",
    "                        tmp.append(1)\n",
    "                    \n",
    "            elif(states[j-1] == states[j+1]):\n",
    "                tmp.append(0)\n",
    "            else:\n",
    "                tmp.append(1)\n",
    "                    \n",
    "        states = tmp\n",
    "        tmp = []\n",
    "    return states\n",
    "\n",
    "x = [i%2 for i in range(1)]\n",
    "cellCompete(x, 100000)"
   ]
  },
  {
   "cell_type": "code",
   "execution_count": 14,
   "metadata": {},
   "outputs": [
    {
     "name": "stdout",
     "output_type": "stream",
     "text": [
      "123\n",
      "234\n",
      "345\n"
     ]
    }
   ],
   "source": [
    "# REVERSING A LINKED LIST\n",
    "\n",
    "class Node:\n",
    "    def __init__(self, value, nextNode):\n",
    "        self.value = value\n",
    "        self.nextNode = nextNode\n",
    "\n",
    "class LinkedList:\n",
    "    def __init__(self):\n",
    "        self.head = None\n",
    "\n",
    "n1 = Node(123, None)\n",
    "n2 = Node(234, n1)\n",
    "n3 = Node(345, n2)\n",
    "\n",
    "ll = LinkedList()\n",
    "ll.head = n3\n",
    "\n",
    "def ReverseALinkedList(ll):\n",
    "    curr = ll.head\n",
    "    nextt = None\n",
    "    prev = None\n",
    "    \n",
    "    while(curr != None):\n",
    "        nextt = curr.nextNode\n",
    "        curr.nextNode = prev\n",
    "        prev = curr\n",
    "        curr = nextt\n",
    "    ll.head = prev\n",
    "    \n",
    "    #Printing \n",
    "    ptr1 = ll.head\n",
    "    while(ptr1 != None):\n",
    "        print(ptr1.value)\n",
    "        ptr1 = ptr1.nextNode\n",
    "\n",
    "        \n",
    "ReverseALinkedList(ll)"
   ]
  }
 ],
 "metadata": {
  "kernelspec": {
   "display_name": "Python 3",
   "language": "python",
   "name": "python3"
  },
  "language_info": {
   "codemirror_mode": {
    "name": "ipython",
    "version": 3
   },
   "file_extension": ".py",
   "mimetype": "text/x-python",
   "name": "python",
   "nbconvert_exporter": "python",
   "pygments_lexer": "ipython3",
   "version": "3.7.2"
  }
 },
 "nbformat": 4,
 "nbformat_minor": 2
}
