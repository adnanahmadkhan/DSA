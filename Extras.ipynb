{
 "cells": [
  {
   "cell_type": "markdown",
   "metadata": {},
   "source": [
    "## 10 Algorithms must know for SWE\n",
    "\n",
    "1. DFS\n",
    "2. BFS\n",
    "3. Matching Paranthesis\n",
    "4. using hash tables(used for Dynamic programming/memoization/caching)\n",
    "5. multiple pointers(variables) e.g longest palindrom in string\n",
    "6. Reversing a linked list\n",
    "7. Sorting fundamentals (sorting algorithms) know runtimes of each - know differences - \n",
    "8. Recursion\n",
    "9. Custom data structures - Suffix tree\n",
    "10. Binary Search\n",
    "\n",
    "stacks - queues\n",
    "\n",
    "DFS can be implemented using stacks"
   ]
  },
  {
   "cell_type": "code",
   "execution_count": 2,
   "metadata": {},
   "outputs": [
    {
     "data": {
      "text/plain": [
       "2"
      ]
     },
     "execution_count": 2,
     "metadata": {},
     "output_type": "execute_result"
    }
   ],
   "source": [
    "#FIND GENERALIZED GCD\n",
    "\n",
    "from functools import reduce\n",
    "      \n",
    "def generalizedGCD(num, arr):\n",
    "    # WRITE YOUR CODE HERE\n",
    "    if (num > 2):\n",
    "        return reduce(lambda x,y: GCD(x,y), arr)\n",
    "    \n",
    "    return GCD(arr[0], arr[1])\n",
    "\n",
    "\n",
    "def GCD(x, y): \n",
    "    while(y):\n",
    "        x, y = y, x % y \n",
    "    return x  \n",
    "\n",
    "l = [2, 4, 6, 8, 16] \n",
    "generalizedGCD(len(l), l)"
   ]
  },
  {
   "cell_type": "code",
   "execution_count": 1,
   "metadata": {},
   "outputs": [
    {
     "data": {
      "text/plain": [
       "[0]"
      ]
     },
     "execution_count": 1,
     "metadata": {},
     "output_type": "execute_result"
    }
   ],
   "source": [
    "# 8 PRISON CELLS\n",
    "\n",
    "def cellCompete(states, days):\n",
    "    # WRITE YOUR CODE HERE\n",
    "    # same pe 0\n",
    "    tmp = []\n",
    "    \n",
    "    if(len(states) == 1):\n",
    "        states[0] = 0\n",
    "        return states\n",
    "    \n",
    "    for i in range(days):\n",
    "        for j in range(len(states)):\n",
    "            if((j == 0) | (j == len(states)-1)):\n",
    "                if(j == 0):\n",
    "                    if(states[1] == 0):\n",
    "                        tmp.append(0)\n",
    "                    else:\n",
    "                        tmp.append(1)\n",
    "                        \n",
    "                else:\n",
    "                    if(states[len(states)-2] == 0):\n",
    "                        tmp.append(0)\n",
    "                    else:\n",
    "                        tmp.append(1)\n",
    "                    \n",
    "            elif(states[j-1] == states[j+1]):\n",
    "                tmp.append(0)\n",
    "            else:\n",
    "                tmp.append(1)\n",
    "                    \n",
    "        states = tmp\n",
    "        tmp = []\n",
    "    return states\n",
    "\n",
    "x = [i%2 for i in range(1)]\n",
    "cellCompete(x, 100000)"
   ]
  },
  {
   "cell_type": "code",
   "execution_count": 14,
   "metadata": {},
   "outputs": [
    {
     "name": "stdout",
     "output_type": "stream",
     "text": [
      "123\n",
      "234\n",
      "345\n"
     ]
    }
   ],
   "source": [
    "# REVERSING A LINKED LIST\n",
    "\n",
    "class Node:\n",
    "    def __init__(self, value, nextNode):\n",
    "        self.value = value\n",
    "        self.nextNode = nextNode\n",
    "\n",
    "class LinkedList:\n",
    "    def __init__(self):\n",
    "        self.head = None\n",
    "\n",
    "n1 = Node(123, None)\n",
    "n2 = Node(234, n1)\n",
    "n3 = Node(345, n2)\n",
    "\n",
    "ll = LinkedList()\n",
    "ll.head = n3\n",
    "\n",
    "def ReverseALinkedList(ll):\n",
    "    curr = ll.head\n",
    "    nextt = None\n",
    "    prev = None\n",
    "    \n",
    "    while(curr != None):\n",
    "        nextt = curr.nextNode\n",
    "        curr.nextNode = prev\n",
    "        prev = curr\n",
    "        curr = nextt\n",
    "    ll.head = prev\n",
    "    \n",
    "    #Printing \n",
    "    ptr1 = ll.head\n",
    "    while(ptr1 != None):\n",
    "        print(ptr1.value)\n",
    "        ptr1 = ptr1.nextNode\n",
    "\n",
    "        \n",
    "ReverseALinkedList(ll)"
   ]
  },
  {
   "cell_type": "code",
   "execution_count": 1,
   "metadata": {},
   "outputs": [
    {
     "name": "stdout",
     "output_type": "stream",
     "text": [
      "(True, 2)\n",
      "(True, 2)\n",
      "(True, 1)\n",
      "(True, 2)\n",
      "(False, 0)\n"
     ]
    }
   ],
   "source": [
    "# Trie Data Structure implementation\n",
    "from typing import Tuple\n",
    "\n",
    "\n",
    "class TrieNode(object):\n",
    "    \"\"\"\n",
    "    Our trie node implementation. Very basic. but does the job\n",
    "    \"\"\"\n",
    "    \n",
    "    def __init__(self, char: str):\n",
    "        self.char = char\n",
    "        self.children = []\n",
    "        # Is it the last character of the word.`\n",
    "        self.word_finished = False\n",
    "        # How many times this character appeared in the addition process\n",
    "        self.counter = 1\n",
    "    \n",
    "\n",
    "def add(root, word: str):\n",
    "    \"\"\"\n",
    "    Adding a word in the trie structure\n",
    "    \"\"\"\n",
    "    node = root\n",
    "    for char in word:\n",
    "        found_in_child = False\n",
    "        # Search for the character in the children of the present `node`\n",
    "        for child in node.children:\n",
    "            if child.char == char:\n",
    "                # We found it, increase the counter by 1 to keep track that another\n",
    "                # word has it as well\n",
    "                child.counter += 1\n",
    "                # And point the node to the child that contains this char\n",
    "                node = child\n",
    "                found_in_child = True\n",
    "                break\n",
    "        # We did not find it so add a new chlid\n",
    "        if not found_in_child:\n",
    "            new_node = TrieNode(char)\n",
    "            node.children.append(new_node)\n",
    "            # And then point node to the new child\n",
    "            node = new_node\n",
    "    # Everything finished. Mark it as the end of a word.\n",
    "    node.word_finished = True\n",
    "\n",
    "\n",
    "def find_prefix(root, prefix: str) -> Tuple[bool, int]:\n",
    "    \"\"\"\n",
    "    Check and return \n",
    "      1. If the prefix exsists in any of the words we added so far\n",
    "      2. If yes then how may words actually have the prefix\n",
    "    \"\"\"\n",
    "    node = root\n",
    "    # If the root node has no children, then return False.\n",
    "    # Because it means we are trying to search in an empty trie\n",
    "    if not root.children:\n",
    "        return False, 0\n",
    "    for char in prefix:\n",
    "        char_not_found = True\n",
    "        # Search through all the children of the present `node`\n",
    "        for child in node.children:\n",
    "            if child.char == char:\n",
    "                # We found the char existing in the child.\n",
    "                char_not_found = False\n",
    "                # Assign node as the child containing the char and break\n",
    "                node = child\n",
    "                break\n",
    "        # Return False anyway when we did not find a char.\n",
    "        if char_not_found:\n",
    "            return False, 0\n",
    "    # Well, we are here means we have found the prefix. Return true to indicate that\n",
    "    # And also the counter of the last node. This indicates how many words have this\n",
    "    # prefix\n",
    "    return True, node.counter\n",
    "\n",
    "if __name__ == \"__main__\":\n",
    "    root = TrieNode('*')\n",
    "    add(root, \"hackathon\")\n",
    "    add(root, 'hack')\n",
    "\n",
    "    print(find_prefix(root, 'hac'))\n",
    "    print(find_prefix(root, 'hack'))\n",
    "    print(find_prefix(root, 'hackathon'))\n",
    "    print(find_prefix(root, 'ha'))\n",
    "    print(find_prefix(root, 'hammer'))"
   ]
  },
  {
   "cell_type": "code",
   "execution_count": 27,
   "metadata": {},
   "outputs": [
    {
     "data": {
      "text/plain": [
       "[[300, 200]]"
      ]
     },
     "execution_count": 27,
     "metadata": {},
     "output_type": "execute_result"
    }
   ],
   "source": [
    "# Iterating 2 arrays simultanously to compute or optimize a target value in O(N)\n",
    "def Solution(a1, a2, target):\n",
    "    #naive solution\n",
    "    a1 = sorted(a1)\n",
    "    a2 = sorted(a2)\n",
    "    opt = 0\n",
    "    resp = []\n",
    "    \n",
    "    r = len(a1)-1\n",
    "    l = 0\n",
    "\n",
    "    while l < len(a1) and r >= 0:\n",
    "        curr = a1[l]+a2[r]\n",
    "        if(curr < target and curr > opt):\n",
    "            opt = curr\n",
    "            resp = [[a1[l],a2[r]]]\n",
    "        elif(curr == opt):\n",
    "            resp.append([a1[l],a2[r]])\n",
    "        elif(curr == target):\n",
    "            resp = [[a1[l],a2[r]]]\n",
    "            opt = target\n",
    "        if(curr > target):\n",
    "            r-=1\n",
    "        else:\n",
    "            l+=1\n",
    "            \n",
    "    return resp\n",
    "        \n",
    "# a1 = [1000, 300, 1500, 3000, 1200, 2000, 600]\n",
    "# a2 = [200, 2500, 1700, 900, 4000, 100, 600]\n",
    "a1 = [1000, 300, 1500, 3000]\n",
    "a2 = [200, 2500, 1700, 900]\n",
    "target = 1100\n",
    "\n",
    "Solution(a1, a2, target)"
   ]
  },
  {
   "cell_type": "code",
   "execution_count": 30,
   "metadata": {},
   "outputs": [
    {
     "data": {
      "text/plain": [
       "4"
      ]
     },
     "execution_count": 30,
     "metadata": {},
     "output_type": "execute_result"
    }
   ],
   "source": [
    "# Kadanes algorithm (Dynamic Programming)\n",
    "def Solution(arr):\n",
    "    currMax = -1000000000\n",
    "    finalMax = -1000000000\n",
    "    for i in range(len(arr)):\n",
    "        currMax = max(0, currMax) + arr[i]\n",
    "        finalMax = max(currMax, finalMax)\n",
    "    return finalMax\n",
    "\n",
    "Solution([1,2,-5,3,1,-2])"
   ]
  },
  {
   "cell_type": "code",
   "execution_count": null,
   "metadata": {},
   "outputs": [],
   "source": [
    "#longest palindrome in a string\n",
    "def Solution(s):\n",
    "    "
   ]
  },
  {
   "cell_type": "code",
   "execution_count": 45,
   "metadata": {},
   "outputs": [
    {
     "name": "stdout",
     "output_type": "stream",
     "text": [
      "[1, 4, 5, 8, 2, 0, 7, 9, 7, 6, 3, 4]\n"
     ]
    }
   ],
   "source": [
    "# BFS, DFS in 2D matrix\n",
    "from collections import deque\n",
    "\n",
    "def Solution(matrix, BFS=True):\n",
    "    h = len(matrix)\n",
    "    w = len(matrix[0])\n",
    "    result = []\n",
    "    visited = [[False for i in range(w)] for j in range(h)]\n",
    "    q = deque()\n",
    "    q.append([0,0])\n",
    "    \n",
    "    while(len(q)):\n",
    "        if(BFS):\n",
    "            tmp = q.popleft() #append - popleft to use as Queue for BFS\n",
    "        else:\n",
    "            tmp = q.pop() #append - pop to use as Stack for DFS\n",
    "            \n",
    "        row = tmp[0]\n",
    "        col = tmp[1]\n",
    "        if (row < 0 or col < 0 or row >= h or col >= w or visited[row][col]):\n",
    "            continue\n",
    "        visited[row][col] = True\n",
    "        result.append(matrix[row][col])\n",
    "        q.append([row, col-1])\n",
    "        q.append([row, col+1])\n",
    "        q.append([row-1, col])\n",
    "        q.append([row+1, col])\n",
    "    return result\n",
    "\n",
    "arr = [[1,4,8],\n",
    "       [5,2,7],\n",
    "       [0,9,6],\n",
    "       [7,3,4]]\n",
    "print(Solution(arr))"
   ]
  }
 ],
 "metadata": {
  "kernelspec": {
   "display_name": "Python 3",
   "language": "python",
   "name": "python3"
  },
  "language_info": {
   "codemirror_mode": {
    "name": "ipython",
    "version": 3
   },
   "file_extension": ".py",
   "mimetype": "text/x-python",
   "name": "python",
   "nbconvert_exporter": "python",
   "pygments_lexer": "ipython3",
   "version": "3.7.2"
  }
 },
 "nbformat": 4,
 "nbformat_minor": 2
}
