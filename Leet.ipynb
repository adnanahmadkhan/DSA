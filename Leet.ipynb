{
 "cells": [
  {
   "cell_type": "markdown",
   "metadata": {},
   "source": [
    "# AMAZON PREP\n",
    "## Question 1\n",
    "### Top K Frequently mentioned keywords\n",
    "\n",
    "Given a list of reviews, a list of keywords and an integer k. Find the most popular k keywords in order of most to least frequently mentioned.\n",
    "\n",
    "The comparison of strings is case-insensitive.\n",
    "Multiple occurances of a keyword in a review should be considred as a single mention.\n",
    "If keywords are mentioned an equal number of times in reviews, sort alphabetically.\n",
    "\n",
    "\n",
    "Example 1:\n",
    "\n",
    "    Input:\n",
    "    k = 2\n",
    "    keywords = [\"anacell\", \"cetracular\", \"betacellular\"]\n",
    "    reviews = [\n",
    "      \"Anacell provides the best services in the city\",\n",
    "      \"betacellular has awesome services\",\n",
    "      \"Best services provided by anacell, everyone should use anacell\",\n",
    "    ]\n",
    "\n",
    "    Output:\n",
    "    [\"anacell\", \"betacellular\"]\n",
    "\n",
    "    Explanation:\n",
    "    \"anacell\" is occuring in 2 different reviews and \"betacellular\" is only occuring in 1 review.\n",
    "    \n",
    "    \n",
    "Example 2:\n",
    "\n",
    "    Input:\n",
    "    k = 2\n",
    "    keywords = [\"anacell\", \"betacellular\", \"cetracular\", \"deltacellular\", \"eurocell\"]\n",
    "    reviews = [\n",
    "      \"I love anacell Best services; Best services provided by anacell\",\n",
    "      \"betacellular has great services\",\n",
    "      \"deltacellular provides much better services than betacellular\",\n",
    "      \"cetracular is worse than anacell\",\n",
    "      \"Betacellular is better than deltacellular.\",\n",
    "    ]\n",
    "\n",
    "    Output:\n",
    "    [\"betacellular\", \"anacell\"]\n",
    "\n",
    "    Explanation:\n",
    "    \"betacellular\" is occuring in 3 different reviews. \"anacell\" and \"deltacellular\" are occuring in 2 reviews, but \"anacell\" is lexicographically smaller.\n"
   ]
  },
  {
   "cell_type": "code",
   "execution_count": 102,
   "metadata": {},
   "outputs": [
    {
     "data": {
      "text/plain": [
       "['betacellular', 'abc']"
      ]
     },
     "execution_count": 102,
     "metadata": {},
     "output_type": "execute_result"
    }
   ],
   "source": [
    "# solution should be in O(k.log.n) Top K Frequently mentioned keywords\n",
    "import collections\n",
    "import string\n",
    "\n",
    "def Solution(R, W, k):\n",
    "    bag = []\n",
    "    splitted = []\n",
    "    table = str.maketrans('', '', string.punctuation)\n",
    "    \n",
    "    for r in R:\n",
    "        r = r.translate(table)\n",
    "        splitted.extend(set(r.lower().split(\" \")))\n",
    "        \n",
    "    for w in splitted:\n",
    "        if(w in W):\n",
    "            bag.append(w)\n",
    "\n",
    "    c = collections.Counter(bag)\n",
    "    c = sorted(c.items(), key=lambda pair: (-pair[1], pair[0]))\n",
    "    \n",
    "    return [i[0] for i in c[:k]]\n",
    "\n",
    "\n",
    "k = 2\n",
    "keywords = [\"anacell\", \"betacellular\", \"cetracular\", \"deltacellular\", \"eurocell\", \"abc\"]\n",
    "reviews = [\n",
    "  \"I love anacell Best services; Best services provided by anacell, abc\",\n",
    "  \"betacellular has great services\",\n",
    "  \"deltacellular provides much better services than betacellular abc\",\n",
    "  \"cetracular is worse than anacell\",\n",
    "  \"Betacellular is better than deltacellular.\",\n",
    "]\n",
    "\n",
    "Solution(reviews, keywords, k)"
   ]
  },
  {
   "cell_type": "markdown",
   "metadata": {},
   "source": [
    "## Question 2\n",
    "### Zombies in Matrix\n",
    "Given a 2D grid, each cell is either a zombie 1 or a human 0. Zombies can turn adjacent (up/down/left/right) human beings into zombies every hour. Find out how many hours does it take to infect all humans?\n",
    "\n",
    "Example:\n",
    "\n",
    "    Input:\n",
    "    [[0, 1, 1, 0, 1],\n",
    "     [0, 1, 0, 1, 0],\n",
    "     [0, 0, 0, 0, 1],\n",
    "     [0, 1, 0, 0, 0]]\n",
    "\n",
    "Output: 2\n",
    "\n",
    "    Explanation:\n",
    "    At the end of the 1st hour, the status of the grid:\n",
    "    [[1, 1, 1, 1, 1],\n",
    "     [1, 1, 1, 1, 1],\n",
    "     [0, 1, 0, 1, 1],\n",
    "     [1, 1, 1, 0, 1]]\n",
    "\n",
    "    At the end of the 2nd hour, the status of the grid:\n",
    "    [[1, 1, 1, 1, 1],\n",
    "     [1, 1, 1, 1, 1],\n",
    "     [1, 1, 1, 1, 1],\n",
    "     [1, 1, 1, 1, 1]]\n",
    "\n",
    "    int minHours(int rows, int columns, List<List<Integer>> grid) {\n",
    "        // todo\n",
    "    }"
   ]
  },
  {
   "cell_type": "code",
   "execution_count": 116,
   "metadata": {},
   "outputs": [
    {
     "data": {
      "text/plain": [
       "7"
      ]
     },
     "execution_count": 116,
     "metadata": {},
     "output_type": "execute_result"
    }
   ],
   "source": [
    "import numpy as np\n",
    "\n",
    "def solution(grid):\n",
    "    rows = len(grid)\n",
    "    cols = len(grid[0])\n",
    "    grid = np.ndarray.flatten(np.array(grid))\n",
    "    gridlen = (rows*cols)\n",
    "    i = 0\n",
    "    totalRounds = 0\n",
    "    newgrid = [0]*gridlen\n",
    "    \n",
    "    if(sum(grid) == gridlen): return 0\n",
    "    if(sum(grid) == 0): return -1\n",
    "    \n",
    "    valueRange = range(gridlen)\n",
    "    \n",
    "    while(sum(grid) != gridlen):\n",
    "        a = b = c = d = 0\n",
    "        if(i == gridlen):\n",
    "            #print(np.array(grid).reshape(rows, cols))\n",
    "            i = 0\n",
    "            totalRounds+=1\n",
    "            grid = newgrid\n",
    "            newgrid = [0]*gridlen\n",
    "            \n",
    "        if((i+1) in valueRange):\n",
    "            if((i+1)%cols != 0):\n",
    "                a = grid[i+1]or grid[i]\n",
    "        if((i-1) in valueRange):\n",
    "            if(i%cols != 0):\n",
    "                b = grid[i-1] or grid[i]\n",
    "        if((i+cols) in valueRange):\n",
    "            c = grid[i+cols] or grid[i]\n",
    "        if((i-cols) in valueRange):\n",
    "            d = grid[i-cols] or grid[i]\n",
    "        newgrid[i] = a or b or c or d\n",
    "        \n",
    "        if(i!=gridlen):\n",
    "            i+=1\n",
    "    return totalRounds + 1\n",
    "        \n",
    "grid = [[0, 0, 0, 1, 0],\n",
    "        [0, 0, 0, 0, 0],\n",
    "        [0, 0, 0, 0, 0],\n",
    "        [0, 0, 0, 0, 0]]\n",
    "\n",
    "solution(grid)"
   ]
  },
  {
   "cell_type": "markdown",
   "metadata": {},
   "source": [
    "## Question 3\n",
    "### Critical Routers\n",
    "\n",
    "You are given an undirected connected graph. An articulation point (or cut vertex) is defined as a vertex which, when removed along with associated edges, makes the graph disconnected (or more precisely, increases the number of connected components in the graph). The task is to find all articulation points in the given graph.\n",
    "\n",
    "Input:\n",
    "The input to the function/method consists of three arguments:\n",
    "\n",
    "numNodes, an integer representing the number of nodes in the graph.\n",
    "numEdges, an integer representing the number of edges in the graph.\n",
    "edges, the list of pair of integers - A, B representing an edge between the nodes A and B.\n",
    "Output:\n",
    "Return a list of integers representing the critical nodes.\n",
    "\n",
    "\n",
    "Example:\n",
    "\n",
    "    Input: numNodes = 7, numEdges = 7, edges = [[0, 1], [0, 2], [1, 3], [2, 3], [2, 5], [5, 6], [3, 4]]\n",
    "\n",
    "\n",
    "    Output: [2, 3, 5]"
   ]
  },
  {
   "cell_type": "code",
   "execution_count": 169,
   "metadata": {},
   "outputs": [
    {
     "data": {
      "text/plain": [
       "[2, 3, 5]"
      ]
     },
     "execution_count": 169,
     "metadata": {},
     "output_type": "execute_result"
    }
   ],
   "source": [
    "def dfs(graph):\n",
    "    start_vertex = list(graph.keys())[0]\n",
    "    visited = set()\n",
    "    traversal = []\n",
    "    stack = [start_vertex]\n",
    "    while stack:\n",
    "        vertex = stack.pop()\n",
    "        if vertex not in visited:\n",
    "            visited.add(vertex)\n",
    "            traversal.append(vertex)\n",
    "            stack.extend(reversed(graph[vertex]))   # add vertex in the same order as visited\n",
    "    return traversal\n",
    "\n",
    "def withoutKey(arr, key):\n",
    "    tmp = list(arr)\n",
    "    if(key in arr):\n",
    "        tmp.remove(key)\n",
    "    return tmp\n",
    "\n",
    "def Solution(nNodes, nEdges, edges):\n",
    "    graph = {}\n",
    "    result = []\n",
    "    for i in range(nNodes):\n",
    "        graph[i] = []\n",
    "        \n",
    "    for i in edges:\n",
    "        graph[i[0]].append(i[1])\n",
    "        graph[i[1]].append(i[0])\n",
    "    \n",
    "    for key in graph:\n",
    "        _graph = {i:withoutKey(graph[i], key) for i in graph if i!=key}\n",
    "        res = dfs(_graph)\n",
    "        if(len(res) < (nNodes)-1):\n",
    "            result.append(key)\n",
    "    return result\n",
    "\n",
    "edges = [[0, 1], [0, 2], [1, 3], [2, 3], [2, 5], [5, 6], [3, 4]]\n",
    "numEdges = 7\n",
    "numNodes = 7\n",
    "Solution(numNodes, numEdges, edges)"
   ]
  },
  {
   "cell_type": "markdown",
   "metadata": {},
   "source": [
    "## Question 4\n",
    "### Product Suggestions\n",
    "\n",
    "Given an array of strings products and a string searchWord. We want to design a system that suggests at most three product names from products after each character of searchWord is typed. Suggested products should have common prefix with the searchWord. If there are more than three products with a common prefix return the three lexicographically minimums products.\n",
    "\n",
    "Return list of lists of the suggested products after each character of searchWord is typed. \n",
    "\n",
    " \n",
    "\n",
    "### Example 1:\n",
    "\n",
    "    Input: products = [\"mobile\",\"mouse\",\"moneypot\",\"monitor\",\"mousepad\"], searchWord = \"mouse\"\n",
    "    Output: [\n",
    "    [\"mobile\",\"moneypot\",\"monitor\"],\n",
    "    [\"mobile\",\"moneypot\",\"monitor\"],\n",
    "    [\"mouse\",\"mousepad\"],\n",
    "    [\"mouse\",\"mousepad\"],\n",
    "    [\"mouse\",\"mousepad\"]\n",
    "    ]\n",
    "\n",
    "    Explanation: products sorted lexicographically = [\"mobile\",\"moneypot\",\"monitor\",\"mouse\",\"mousepad\"]\n",
    "    After typing m and mo all products match and we show user [\"mobile\",\"moneypot\",\"monitor\"]\n",
    "    After typing mou, mous and mouse the system suggests [\"mouse\",\"mousepad\"]\n",
    "\n",
    "### Example 2:\n",
    "\n",
    "    Input: products = [\"havana\"], searchWord = \"havana\"\n",
    "    Output: [[\"havana\"],[\"havana\"],[\"havana\"],[\"havana\"],[\"havana\"],[\"havana\"]]\n",
    "    Example 3:\n",
    "\n",
    "    Input: products = [\"bags\",\"baggage\",\"banner\",\"box\",\"cloths\"], searchWord = \"bags\"\n",
    "    Output: [[\"baggage\",\"bags\",\"banner\"],[\"baggage\",\"bags\",\"banner\"],[\"baggage\",\"bags\"],[\"bags\"]]\n",
    "    Example 4:\n",
    "\n",
    "    Input: products = [\"havana\"], searchWord = \"tatiana\"\n",
    "    Output: [[],[],[],[],[],[],[]]\n",
    " \n",
    "\n",
    "### Constraints:\n",
    "\n",
    "    1 <= products.length <= 1000\n",
    "    There are no repeated elements in products.\n",
    "    1 <= Σ products[i].length <= 2 * 10^4\n",
    "    All characters of products[i] are lower-case English letters.\n",
    "    1 <= searchWord.length <= 1000\n",
    "    All characters of searchWord are lower-case English letters."
   ]
  },
  {
   "cell_type": "code",
   "execution_count": 184,
   "metadata": {},
   "outputs": [
    {
     "data": {
      "text/plain": [
       "[['mobile', 'moneypot', 'monitor'],\n",
       " ['mobile', 'moneypot', 'monitor'],\n",
       " ['mouse', 'mousepad'],\n",
       " ['mouse', 'mousepad'],\n",
       " ['mouse', 'mousepad']]"
      ]
     },
     "execution_count": 184,
     "metadata": {},
     "output_type": "execute_result"
    }
   ],
   "source": [
    "def Solution(products, searchWord):\n",
    "    i = 0\n",
    "    results = []\n",
    "    tmp = []\n",
    "    products.sort()\n",
    "    for i in range(len(searchWord)):\n",
    "        for prod in products:\n",
    "            if(searchWord[:i+1] == prod[:i+1]):\n",
    "                tmp.append(prod)\n",
    "        results.append(tmp[:3])\n",
    "        tmp = []\n",
    "    return results\n",
    "\n",
    "products = [\"mobile\",\"mouse\",\"moneypot\",\"monitor\",\"mousepad\"]\n",
    "searchWord = \"mouse\"\n",
    "# products = [\"havana\"] \n",
    "# searchWord = \"havana\"\n",
    "# products = [\"bags\",\"baggage\",\"banner\",\"box\",\"cloths\"]\n",
    "# searchWord = \"bags\"\n",
    "# products = [\"havana\"] \n",
    "# searchWord = \"tatiana\"\n",
    "Solution(products, searchWord)"
   ]
  },
  {
   "cell_type": "markdown",
   "metadata": {},
   "source": [
    "## Question 5\n",
    "### Number of Clusters\n",
    "\n",
    "Given a 2d grid map of '1's (land) and '0's (water), count the number of islands. An island is surrounded by water and is formed by connecting adjacent lands horizontally or vertically. You may assume all four edges of the grid are all surrounded by water.\n",
    "\n",
    "#### Example 1:\n",
    "\n",
    "    Input:\n",
    "    11110\n",
    "    11010\n",
    "    11000\n",
    "    00000\n",
    "\n",
    "    Output: 1\n",
    "#### Example 2:\n",
    "\n",
    "    Input:\n",
    "    11000\n",
    "    11000\n",
    "    00100\n",
    "    00011\n",
    "\n",
    "    Output: 3"
   ]
  },
  {
   "cell_type": "code",
   "execution_count": null,
   "metadata": {},
   "outputs": [],
   "source": []
  },
  {
   "cell_type": "markdown",
   "metadata": {},
   "source": [
    "## Question 6\n",
    "### Reorder data in log files\n",
    "\n",
    "You have an array of logs.  Each log is a space delimited string of words.\n",
    "\n",
    "For each log, the first word in each log is an alphanumeric identifier.  Then, either:\n",
    "\n",
    "Each word after the identifier will consist only of lowercase letters, or;\n",
    "Each word after the identifier will consist only of digits.\n",
    "We will call these two varieties of logs letter-logs and digit-logs.  It is guaranteed that each log has at least one word after its identifier.\n",
    "\n",
    "Reorder the logs so that all of the letter-logs come before any digit-log.  The letter-logs are ordered lexicographically ignoring identifier, with the identifier used in case of ties.  The digit-logs should be put in their original order.\n",
    "\n",
    "Return the final order of the logs.\n",
    "\n",
    " \n",
    "\n",
    "### Example 1:\n",
    "\n",
    "    Input: logs = [\"dig1 8 1 5 1\",\"let1 art can\",\"dig2 3 6\",\"let2 own kit dig\",\"let3 art zero\"]\n",
    "    Output: [\"let1 art can\",\"let3 art zero\",\"let2 own kit dig\",\"dig1 8 1 5 1\",\"dig2 3 6\"]\n",
    " \n",
    "\n",
    "### Constraints:\n",
    "\n",
    "    0 <= logs.length <= 100\n",
    "    3 <= logs[i].length <= 100\n",
    "    logs[i] is guaranteed to have an identifier, and a word after the identifier."
   ]
  },
  {
   "cell_type": "code",
   "execution_count": null,
   "metadata": {},
   "outputs": [],
   "source": []
  },
  {
   "cell_type": "markdown",
   "metadata": {},
   "source": [
    "## Question 7\n",
    "### Partition Labels\n",
    "\n",
    "A string S of lowercase English letters is given. We want to partition this string into as many parts as possible so that each letter appears in at most one part, and return a list of integers representing the size of these parts.\n",
    "\n",
    " \n",
    "\n",
    "    Example 1:\n",
    "\n",
    "    Input: S = \"ababcbacadefegdehijhklij\"\n",
    "    Output: [9,7,8]\n",
    "    Explanation:\n",
    "    The partition is \"ababcbaca\", \"defegde\", \"hijhklij\".\n",
    "    This is a partition so that each letter appears in at most one part.\n",
    "    A partition like \"ababcbacadefegde\", \"hijhklij\" is incorrect, because it splits S into less parts.\n",
    " \n",
    "\n",
    "### Note:\n",
    "\n",
    "S will have length in range [1, 500].\n",
    "S will consist of lowercase English letters ('a' to 'z') only."
   ]
  },
  {
   "cell_type": "code",
   "execution_count": null,
   "metadata": {},
   "outputs": [],
   "source": []
  },
  {
   "cell_type": "markdown",
   "metadata": {},
   "source": [
    "## Question 8\n",
    "\n",
    "Write an efficient algorithm that searches for a value in an m x n matrix. This matrix has the following properties:\n",
    "\n",
    "Integers in each row are sorted in ascending from left to right.\n",
    "Integers in each column are sorted in ascending from top to bottom.\n",
    "Example:\n",
    "\n",
    "    Consider the following matrix:\n",
    "\n",
    "    [\n",
    "      [1,   4,  7, 11, 15],\n",
    "      [2,   5,  8, 12, 19],\n",
    "      [3,   6,  9, 16, 22],\n",
    "      [10, 13, 14, 17, 24],\n",
    "      [18, 21, 23, 26, 30]\n",
    "    ]\n",
    "Given target = 5, return true.\n",
    "\n",
    "Given target = 20, return false."
   ]
  },
  {
   "cell_type": "code",
   "execution_count": null,
   "metadata": {},
   "outputs": [],
   "source": [
    "def Solution(matrix, val):\n",
    "    rows = len(matrix)\n",
    "    cols = len(matrix[0])\n",
    "    arrayToSearch = []\n",
    "    for i in range(rows):\n",
    "        if(matrix[i][i] == val):\n",
    "            return True\n",
    "        if(matrix[i][i] > val):\n",
    "            \n",
    "        "
   ]
  },
  {
   "cell_type": "markdown",
   "metadata": {},
   "source": [
    "## Question 9\n",
    "### Favorite Genre\n",
    "\n",
    "Given a map Map<String, List<String>> userSongs with user names as keys and a list of all the songs that the user has listened to as values.\n",
    "\n",
    "Also given a map Map<String, List<String>> songGenres, with song genre as keys and a list of all the songs within that genre as values. The song can only belong to only one genre.\n",
    "\n",
    "The task is to return a map Map<String, List<String>>, where the key is a user name and the value is a list of the user's favorite genre(s). Favorite genre is the most listened to genre. A user can have more than one favorite genre if he/she has listened to the same number of songs per each of the genres.\n",
    "\n",
    "#### Example 1:\n",
    "\n",
    "    Input:\n",
    "    userSongs = {  \n",
    "       \"David\": [\"song1\", \"song2\", \"song3\", \"song4\", \"song8\"],\n",
    "       \"Emma\":  [\"song5\", \"song6\", \"song7\"]\n",
    "    },\n",
    "    songGenres = {  \n",
    "       \"Rock\":    [\"song1\", \"song3\"],\n",
    "       \"Dubstep\": [\"song7\"],\n",
    "       \"Techno\":  [\"song2\", \"song4\"],\n",
    "       \"Pop\":     [\"song5\", \"song6\"],\n",
    "       \"Jazz\":    [\"song8\", \"song9\"]\n",
    "    }\n",
    "\n",
    "    Output: {  \n",
    "       \"David\": [\"Rock\", \"Techno\"],\n",
    "       \"Emma\":  [\"Pop\"]\n",
    "    }\n",
    "\n",
    "    Explanation:\n",
    "    David has 2 Rock, 2 Techno and 1 Jazz song. So he has 2 favorite genres.\n",
    "    Emma has 2 Pop and 1 Dubstep song. Pop is Emma's favorite genre.\n",
    "\n",
    "#### Example 2:\n",
    "\n",
    "    Input:\n",
    "    userSongs = {  \n",
    "       \"David\": [\"song1\", \"song2\"],\n",
    "       \"Emma\":  [\"song3\", \"song4\"]\n",
    "    },\n",
    "    songGenres = {}\n",
    "\n",
    "    Output: {  \n",
    "       \"David\": [],\n",
    "       \"Emma\":  []\n",
    "    }"
   ]
  },
  {
   "cell_type": "code",
   "execution_count": 27,
   "metadata": {},
   "outputs": [
    {
     "name": "stdout",
     "output_type": "stream",
     "text": [
      "{}\n"
     ]
    },
    {
     "data": {
      "text/plain": [
       "{}"
      ]
     },
     "execution_count": 27,
     "metadata": {},
     "output_type": "execute_result"
    }
   ],
   "source": [
    "import collections\n",
    "\n",
    "def Solution(userSongs, songGenres):\n",
    "    songGenreMapping = {s:g for g in songGenres for s in songGenres[g]} #O(N^2)\n",
    "    maxVal = 0\n",
    "    tmp = []\n",
    "    result = {}\n",
    "    \n",
    "    for user in userSongs: \n",
    "        for i in range(len(userSongs[user])):\n",
    "            if(userSongs[user][i] in songGenreMapping):\n",
    "                userSongs[user][i] = songGenreMapping[userSongs[user][i]]\n",
    "\n",
    "    for user in userSongs:\n",
    "        c = collections.Counter(userSongs[user])\n",
    "        maxVal = max(c.items())[1]\n",
    "        for k, v in c.items():\n",
    "            if(v == maxVal):\n",
    "                tmp.append(k)\n",
    "            else:\n",
    "                result[user] = tmp\n",
    "                tmp = []\n",
    "    return result\n",
    "                \n",
    "            \n",
    "            \n",
    "        \n",
    "# userSongs = {  \n",
    "#        \"David\": [\"song1\", \"song2\", \"song3\", \"song4\", \"song8\"],\n",
    "#        \"Emma\":  [\"song5\", \"song6\", \"song7\"]\n",
    "#     }\n",
    "# songGenres = {  \n",
    "#    \"Rock\":    [\"song1\", \"song3\"],\n",
    "#    \"Dubstep\": [\"song7\"],\n",
    "#    \"Techno\":  [\"song2\", \"song4\"],\n",
    "#    \"Pop\":     [\"song5\", \"song6\"],\n",
    "#    \"Jazz\":    [\"song8\", \"song9\"]\n",
    "# }\n",
    "\n",
    "userSongs = {  \n",
    "   \"David\": [\"song1\", \"song2\"],\n",
    "   \"Emma\":  [\"song3\", \"song4\"]\n",
    "}\n",
    "\n",
    "songGenres = {}\n",
    "\n",
    "Solution(userSongs, songGenres)"
   ]
  },
  {
   "cell_type": "markdown",
   "metadata": {},
   "source": [
    "## Question 10\n",
    "\n",
    "Given an int array nums and an int target, find how many unique pairs in the array such that their sum is equal to target. Return the number of pairs.\n",
    "\n",
    "#### Example 1:\n",
    "\n",
    "    Input: nums = [1, 1, 2, 45, 46, 46], target = 47\n",
    "    Output: 2\n",
    "    Explanation:\n",
    "    1 + 46 = 47\n",
    "    2 + 45 = 47\n",
    "    \n",
    "#### Example 2:\n",
    "\n",
    "    Input: nums = [1, 1], target = 2\n",
    "    Output: 1\n",
    "    Explanation:\n",
    "    1 + 1 = 2\n",
    "    \n",
    "#### Example 3:\n",
    "\n",
    "    Input: nums = [1, 5, 1, 5], target = 6\n",
    "    Output: 1\n",
    "    Explanation:\n",
    "    [1, 5] and [5, 1] are considered the same."
   ]
  },
  {
   "cell_type": "code",
   "execution_count": 60,
   "metadata": {},
   "outputs": [
    {
     "data": {
      "text/plain": [
       "{(45, 2), (46, 1)}"
      ]
     },
     "execution_count": 60,
     "metadata": {},
     "output_type": "execute_result"
    }
   ],
   "source": [
    "import numpy as np\n",
    "def Solution(nums, target):\n",
    "    nums = list(set(nums))\n",
    "    N = len(nums)\n",
    "    vals = set()\n",
    "    \n",
    "    for i in nums:\n",
    "        if (target - i) in nums and (target - i) > i:\n",
    "            vals.add(((target - i) ,i))\n",
    "    return vals\n",
    "        \n",
    "Solution([1,1,2,45,46,46], 47)"
   ]
  },
  {
   "cell_type": "code",
   "execution_count": 66,
   "metadata": {},
   "outputs": [
    {
     "data": {
      "text/plain": [
       "['AB', 'CA', 'AD']"
      ]
     },
     "execution_count": 66,
     "metadata": {},
     "output_type": "execute_result"
    }
   ],
   "source": [
    "def Solution(s, k):\n",
    "    res = []\n",
    "    seen = []\n",
    "    for i in range(0, len(s), k):\n",
    "        currSlice = s[i:i+k]\n",
    "        for char in currSlice:\n",
    "            if(char not in seen):\n",
    "                seen.append(char)\n",
    "        res.append(''.join(seen))\n",
    "        seen = []\n",
    "    return res\n",
    "    \n",
    "Solution('AABCAAADA', 3)"
   ]
  },
  {
   "cell_type": "code",
   "execution_count": 6,
   "metadata": {},
   "outputs": [
    {
     "name": "stdout",
     "output_type": "stream",
     "text": [
      "(True, 2)\n",
      "(True, 2)\n",
      "(True, 1)\n",
      "(True, 2)\n",
      "(False, 0)\n"
     ]
    }
   ],
   "source": [
    "# Trie Data Structure implementation\n",
    "from typing import Tuple\n",
    "\n",
    "\n",
    "class TrieNode(object):\n",
    "    \"\"\"\n",
    "    Our trie node implementation. Very basic. but does the job\n",
    "    \"\"\"\n",
    "    \n",
    "    def __init__(self, char: str):\n",
    "        self.char = char\n",
    "        self.children = []\n",
    "        # Is it the last character of the word.`\n",
    "        self.word_finished = False\n",
    "        # How many times this character appeared in the addition process\n",
    "        self.counter = 1\n",
    "    \n",
    "\n",
    "def add(root, word: str):\n",
    "    \"\"\"\n",
    "    Adding a word in the trie structure\n",
    "    \"\"\"\n",
    "    node = root\n",
    "    for char in word:\n",
    "        found_in_child = False\n",
    "        # Search for the character in the children of the present `node`\n",
    "        for child in node.children:\n",
    "            if child.char == char:\n",
    "                # We found it, increase the counter by 1 to keep track that another\n",
    "                # word has it as well\n",
    "                child.counter += 1\n",
    "                # And point the node to the child that contains this char\n",
    "                node = child\n",
    "                found_in_child = True\n",
    "                break\n",
    "        # We did not find it so add a new chlid\n",
    "        if not found_in_child:\n",
    "            new_node = TrieNode(char)\n",
    "            node.children.append(new_node)\n",
    "            # And then point node to the new child\n",
    "            node = new_node\n",
    "    # Everything finished. Mark it as the end of a word.\n",
    "    node.word_finished = True\n",
    "\n",
    "\n",
    "def find_prefix(root, prefix: str) -> Tuple[bool, int]:\n",
    "    \"\"\"\n",
    "    Check and return \n",
    "      1. If the prefix exsists in any of the words we added so far\n",
    "      2. If yes then how may words actually have the prefix\n",
    "    \"\"\"\n",
    "    node = root\n",
    "    # If the root node has no children, then return False.\n",
    "    # Because it means we are trying to search in an empty trie\n",
    "    if not root.children:\n",
    "        return False, 0\n",
    "    for char in prefix:\n",
    "        char_not_found = True\n",
    "        # Search through all the children of the present `node`\n",
    "        for child in node.children:\n",
    "            if child.char == char:\n",
    "                # We found the char existing in the child.\n",
    "                char_not_found = False\n",
    "                # Assign node as the child containing the char and break\n",
    "                node = child\n",
    "                break\n",
    "        # Return False anyway when we did not find a char.\n",
    "        if char_not_found:\n",
    "            return False, 0\n",
    "    # Well, we are here means we have found the prefix. Return true to indicate that\n",
    "    # And also the counter of the last node. This indicates how many words have this\n",
    "    # prefix\n",
    "    return True, node.counter\n",
    "\n",
    "if __name__ == \"__main__\":\n",
    "    root = TrieNode('*')\n",
    "    add(root, \"hackathon\")\n",
    "    add(root, 'hack')\n",
    "\n",
    "    print(find_prefix(root, 'hac'))\n",
    "    print(find_prefix(root, 'hack'))\n",
    "    print(find_prefix(root, 'hackathon'))\n",
    "    print(find_prefix(root, 'ha'))\n",
    "    print(find_prefix(root, 'hammer'))"
   ]
  },
  {
   "cell_type": "code",
   "execution_count": null,
   "metadata": {},
   "outputs": [],
   "source": [
    "23280669749332\n",
    "\n",
    "23280669749332"
   ]
  },
  {
   "cell_type": "code",
   "execution_count": 83,
   "metadata": {},
   "outputs": [
    {
     "data": {
      "text/plain": [
       "['a1 alps cow', 'mi2 ab ac', 'qa 12 23']"
      ]
     },
     "execution_count": 83,
     "metadata": {},
     "output_type": "execute_result"
    }
   ],
   "source": [
    "# 23 passed\n",
    "def orderedJunctionBoxes(numberOfBoxes, boxList):\n",
    "    # WRITE YOUR CODE HERE\n",
    "    #naive solution\n",
    "    oldboxes = []\n",
    "    newboxes = []\n",
    "    \n",
    "    #separate old/new boxes\n",
    "    for box in boxList:\n",
    "        if(box.split(\" \")[1].isdigit()):\n",
    "            newboxes.append(box)\n",
    "        else:\n",
    "            oldboxes.append(box)\n",
    "    \n",
    "    # sort old boxes and break ties\n",
    "    #key is taking 2 arguments, first is primary sorting key\n",
    "    #the second argument is secondary sorting key\n",
    "    oldboxes = sorted(oldboxes, key = lambda x: (' '.join(x.split(\" \")[1:]), x.split(\" \")[0]))\n",
    "    \n",
    "    oldboxes.extend(newboxes)\n",
    "    return oldboxes\n",
    "orderedJunctionBoxes(7, ['a1 alps cow', 'mi2 ab ac', 'qa 12 23'])"
   ]
  },
  {
   "cell_type": "code",
   "execution_count": 79,
   "metadata": {},
   "outputs": [
    {
     "data": {
      "text/plain": [
       "'alps cow boo'"
      ]
     },
     "execution_count": 79,
     "metadata": {},
     "output_type": "execute_result"
    }
   ],
   "source": [
    "x = 'a1 alps cow boo'\n",
    "' '.join(x.split(\" \")[1:])"
   ]
  },
  {
   "cell_type": "code",
   "execution_count": 89,
   "metadata": {},
   "outputs": [
    {
     "data": {
      "text/plain": [
       "[(1, 1)]"
      ]
     },
     "execution_count": 89,
     "metadata": {},
     "output_type": "execute_result"
    }
   ],
   "source": [
    "# Return type should be a list of tuples\n",
    "def optimalUtilization(maxTravelDist, forwardRouteList, returnRouteList):\n",
    "    # WRITE YOUR CODE HERE\n",
    "    # naive solution\n",
    "    target = []\n",
    "    # O(N^2) will need 2 for loops\n",
    "    \n",
    "    # sort for convenience\n",
    "    forwardRouteList = sorted(forwardRouteList, key=lambda x: x[1])\n",
    "    returnRouteList = sorted(returnRouteList, key=lambda x: x[1])\n",
    "    currMax = []\n",
    "    for fr in forwardRouteList:\n",
    "        for rr in returnRouteList:\n",
    "            currDist = fr[1]+rr[1]\n",
    "            if(currDist == maxTravelDist):\n",
    "                target.append((fr[0], rr[0]))\n",
    "            elif(currDist < maxTravelDist):\n",
    "                currMax = (fr[0], rr[0])\n",
    "    if(target==[]):\n",
    "        target.append(currMax)\n",
    "    return target\n",
    "\n",
    "optimalUtilization(6000, [[1, 10000], [3, 2000], [4, 5000], [1, 3000]], [[1, 10000], [3, 2000], [4, 5000], [1, 3000]])"
   ]
  },
  {
   "cell_type": "code",
   "execution_count": 92,
   "metadata": {},
   "outputs": [
    {
     "data": {
      "text/plain": [
       "[(3, 3)]"
      ]
     },
     "execution_count": 92,
     "metadata": {},
     "output_type": "execute_result"
    }
   ],
   "source": [
    "import sys\n",
    "# Return type should be a list of tuples\n",
    "def optimalUtilization(maxTravelDist, forwardRouteList, returnRouteList):\n",
    "    # WRITE YOUR CODE HERE\n",
    "    # optimized solution\n",
    "    \n",
    "    # sort for convenience\n",
    "    forwardRouteList = sorted(forwardRouteList, key=lambda x: x[1])\n",
    "    returnRouteList = sorted(returnRouteList, key=lambda x: x[1])\n",
    "    \n",
    "    m = len(forwardRouteList)\n",
    "    n= len(returnRouteList)\n",
    "    diff = sys.maxsize\n",
    "    \n",
    "    # we will start from left of forward routes \n",
    "    # and right end of return routes\n",
    "    l = 0\n",
    "    r = n-1\n",
    "    res_l = 0\n",
    "    res_r = 0\n",
    "    \n",
    "    while(l < m and r <= 0):\n",
    "        #if this pair is closer to x than last one\n",
    "        if (abs(forwardRouteList[l][1] + returnRouteList[r][1] - maxTravelDist)) < diff:\n",
    "            res_l = l\n",
    "            res_r = r\n",
    "            diff = abs(forwardRouteList[l][1] + returnRouteList[r][1] - maxTravelDist)\n",
    "        \n",
    "        # if sum is greater\n",
    "        if(forwardRouteList[l][1] + returnRouteList[r][1] > x):\n",
    "            r-=1\n",
    "        else:\n",
    "            l+=1\n",
    "\n",
    "    return [(forwardRouteList[res_l][0], returnRouteList[res_r][0])]   \n",
    "\n",
    "optimalUtilization(6000, [[1, 10000], [3, 2000], [4, 5000], [1, 3000]], [[1, 10000], [3, 2000], [4, 5000], [1, 3000]])"
   ]
  }
 ],
 "metadata": {
  "kernelspec": {
   "display_name": "Python 3",
   "language": "python",
   "name": "python3"
  },
  "language_info": {
   "codemirror_mode": {
    "name": "ipython",
    "version": 3
   },
   "file_extension": ".py",
   "mimetype": "text/x-python",
   "name": "python",
   "nbconvert_exporter": "python",
   "pygments_lexer": "ipython3",
   "version": "3.7.2"
  }
 },
 "nbformat": 4,
 "nbformat_minor": 2
}
